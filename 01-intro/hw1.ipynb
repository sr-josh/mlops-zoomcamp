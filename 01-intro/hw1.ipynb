{
 "cells": [
  {
   "cell_type": "code",
   "execution_count": 1,
   "id": "6ce983c3",
   "metadata": {},
   "outputs": [],
   "source": [
    "import pandas as pd\n",
    "from sklearn.feature_extraction import DictVectorizer\n"
   ]
  },
  {
   "cell_type": "code",
   "execution_count": 2,
   "id": "571258b3",
   "metadata": {},
   "outputs": [],
   "source": [
    "path = \"./yellow_tripdata_2023-01.parquet\"\n",
    "path2 = \"./yellow_tripdata_2023-02.parquet\""
   ]
  },
  {
   "cell_type": "code",
   "execution_count": 3,
   "id": "586915cc",
   "metadata": {},
   "outputs": [],
   "source": [
    "def read_dataframe(filename):\n",
    "    df = pd.read_parquet(filename)\n",
    "    #df.head()\n",
    "    df.tpep_pickup_datetime = pd.to_datetime(df.tpep_pickup_datetime)\n",
    "    df.tpep_dropoff_datetime = pd.to_datetime(df.tpep_dropoff_datetime)\n",
    "\n",
    "    df['duration'] = df.tpep_dropoff_datetime - df.tpep_pickup_datetime\n",
    "    df.duration = df.duration.apply(lambda td: td.total_seconds() / 60)\n",
    "    \n",
    "    # filter\n",
    "    df = df[(df.duration >= 1) & (df.duration <= 60)]\n",
    "\n",
    "    categorical = ['PULocationID', 'DOLocationID']\n",
    "    \n",
    "    df[categorical] = df[categorical].astype(str) #int -> str\n",
    "    \n",
    "    return df\n"
   ]
  },
  {
   "cell_type": "code",
   "execution_count": null,
   "id": "6002fd21",
   "metadata": {},
   "outputs": [],
   "source": [
    "#df = pd.read_parquet(path)\n",
    "df = read_dataframe(path).sample(10000, random_state=1)\n",
    "df_val = read_dataframe(path2).sample(10000, random_state=1)\n"
   ]
  },
  {
   "cell_type": "code",
   "execution_count": 6,
   "id": "cded5de8",
   "metadata": {},
   "outputs": [],
   "source": [
    "# 1.\n",
    "# print(len(df.columns))"
   ]
  },
  {
   "cell_type": "code",
   "execution_count": 7,
   "id": "c7a41be3",
   "metadata": {},
   "outputs": [],
   "source": [
    "# 2. duration 컬럼의 표준편차 구하기\n",
    "# df.tpep_pickup_datetime = pd.to_datetime(df.tpep_pickup_datetime)\n",
    "# df.tpep_dropoff_datetime = pd.to_datetime(df.tpep_dropoff_datetime)\n",
    "\n",
    "# df['duration'] = df.tpep_dropoff_datetime - df.tpep_pickup_datetime\n",
    "# df['duration'] = df['duration'].dt.total_seconds() / 60\n",
    "\n",
    "# print(f\"Duration 표준편차: {df['duration'].std():.2f} 분\") # mean median ..."
   ]
  },
  {
   "cell_type": "code",
   "execution_count": 8,
   "id": "58461268",
   "metadata": {},
   "outputs": [],
   "source": [
    "#3. Fraction of records\n",
    "# 전체 데이터 중에 필터링된 데이터의 비율\n",
    "# total = len(df)\n",
    "# cond_trips = len(df[(df['duration'] >= 1) & (df['duration'] <= 60)])\n",
    "# fraction_normal = cond_trips / total\n",
    "# fraction_normal\n"
   ]
  },
  {
   "cell_type": "code",
   "execution_count": 9,
   "id": "852722ad",
   "metadata": {},
   "outputs": [],
   "source": [
    "#4. one hot encoding - 카테고리형 데이터를 모델이 이해할 수 있는 숫자로\n",
    "# df['PULocationID'] = df['PULocationID'].astype(str)\n",
    "# df['DOLocationID'] = df['DOLocationID'].astype(str)\n",
    "# # label encoding을 막기 위해 string으로 변환\n",
    "pu = ['PULocationID']\n",
    "do = ['DOLocationID']\n",
    "\n",
    "dv = DictVectorizer()\n",
    "some_dict = df[pu + do].to_dict(orient='records')  # 각 row를 하나의 딕셔너리로 \n"
   ]
  },
  {
   "cell_type": "code",
   "execution_count": 10,
   "id": "cfc90e69",
   "metadata": {},
   "outputs": [
    {
     "data": {
      "text/plain": [
       "(3009173, 515)"
      ]
     },
     "execution_count": 10,
     "metadata": {},
     "output_type": "execute_result"
    }
   ],
   "source": [
    "\n",
    "# feature matrix : 모델의 입력 데이터 행렬\n",
    "X_train = dv.fit_transform(some_dict)\n",
    "# 카테고리형 데이터의 개수가 feature의 개수 즉, feature matrix의 차원이 된다.\n",
    "X_train.shape # get rows and columns\n",
    "\n",
    "#print(X_train[:15, :10].toarray())\n"
   ]
  },
  {
   "cell_type": "markdown",
   "id": "abee6f38",
   "metadata": {},
   "source": [
    "Label Encoding vs One-hot Encoding 비교:\n",
    "1. Label Encoding:\n",
    "\n",
    "```python\n",
    "from sklearn.preprocessing import LabelEncoder\n",
    "\n",
    "le = LabelEncoder()\n",
    "locations = ['A', 'B', 'C', 'A', 'B']\n",
    "encoded = le.fit_transform(locations)  # [0, 1, 2, 0, 1]\n",
    "```\n",
    "\n",
    "\n",
    "2. One-hot Encoding (현재 방법):\n",
    "\n",
    "```python\n",
    "# 결과: 각 카테고리마다 별도 컬럼\n",
    "# A: [1, 0, 0, 1, 0]\n",
    "# B: [0, 1, 0, 0, 1] \n",
    "# C: [0, 0, 1, 0, 0]\n",
    "```\n",
    "언제 어떤 방법을 사용하나요?\n",
    "Label Encoding 사용:\n",
    "순서가 있는 카테고리 (예: 'Low', 'Medium', 'High')\n",
    "트리 기반 모델 (RandomForest, XGBoost)\n",
    "메모리 효율성이 중요할 때\n",
    "One-hot Encoding 사용 (현재 방법):\n",
    "순서가 없는 카테고리 (위치 ID처럼)\n",
    "선형 모델 (Linear Regression, Logistic Regression)\n",
    "카테고리 간 동등한 관계일 때"
   ]
  },
  {
   "cell_type": "code",
   "execution_count": 11,
   "id": "d2849b02",
   "metadata": {},
   "outputs": [],
   "source": [
    "# 5. Model training\n",
    "# categorical = ['PULocationID', 'DOLocationID']\n",
    "# numerical = ['duration']\n",
    "\n",
    "# train_dicts = df[categorical + numerical].to_dict(orient='records')\n",
    "# x_train = dv.fit_transform(train_dicts)"
   ]
  },
  {
   "cell_type": "code",
   "execution_count": 12,
   "id": "6d4076e0",
   "metadata": {},
   "outputs": [],
   "source": [
    "# val_dicts = df_val[categorical + numerical].to_dict(orient='records')\n",
    "# x_val = dv.transform(val_dicts)"
   ]
  },
  {
   "cell_type": "code",
   "execution_count": 13,
   "id": "a22e4338",
   "metadata": {},
   "outputs": [],
   "source": [
    "#예측하고자 하는 목표값(여기서는 'duration' 컬럼)을 y_train에 저장합니다.\n",
    "# target = 'duration'\n",
    "# y_train = df[target].values\n",
    "# y_val = df_val[target].values\n"
   ]
  }
 ],
 "metadata": {
  "kernelspec": {
   "display_name": "exp-tracking-env",
   "language": "python",
   "name": "python3"
  },
  "language_info": {
   "codemirror_mode": {
    "name": "ipython",
    "version": 3
   },
   "file_extension": ".py",
   "mimetype": "text/x-python",
   "name": "python",
   "nbconvert_exporter": "python",
   "pygments_lexer": "ipython3",
   "version": "3.9.12"
  }
 },
 "nbformat": 4,
 "nbformat_minor": 5
}
