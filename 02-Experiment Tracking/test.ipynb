{
 "cells": [
  {
   "cell_type": "code",
   "execution_count": 9,
   "id": "f603529f",
   "metadata": {},
   "outputs": [
    {
     "data": {
      "text/plain": [
       "'3.1.1'"
      ]
     },
     "execution_count": 9,
     "metadata": {},
     "output_type": "execute_result"
    }
   ],
   "source": [
    "import mlflow\n",
    "mlflow.__version__"
   ]
  },
  {
   "cell_type": "code",
   "execution_count": 21,
   "id": "86aff713",
   "metadata": {},
   "outputs": [],
   "source": [
    "from mlflow.tracking import MlflowClient\n",
    "\n",
    "MLFLOW_TRACKING_URI = \"sqlite:///mlflow.db\"\n",
    "client = MlflowClient(tracking_uri=MLFLOW_TRACKING_URI)"
   ]
  },
  {
   "cell_type": "code",
   "execution_count": 22,
   "id": "80ed4942",
   "metadata": {},
   "outputs": [
    {
     "data": {
      "text/plain": [
       "[<Experiment: artifact_location='/workspaces/mlops-zoomcamp/02-Experiment Tracking/mlruns/1', creation_time=1752018549946, experiment_id='1', last_update_time=1752018549946, lifecycle_stage='active', name='my-experiment', tags={}>,\n",
       " <Experiment: artifact_location='/workspaces/mlops-zoomcamp/02-Experiment Tracking/mlruns/0', creation_time=1752018549937, experiment_id='0', last_update_time=1752018549937, lifecycle_stage='active', name='Default', tags={}>]"
      ]
     },
     "execution_count": 22,
     "metadata": {},
     "output_type": "execute_result"
    }
   ],
   "source": [
    "client.search_experiments()"
   ]
  },
  {
   "cell_type": "code",
   "execution_count": 26,
   "id": "0449e9a8",
   "metadata": {},
   "outputs": [
    {
     "name": "stdout",
     "output_type": "stream",
     "text": [
      "Run ID: db94b9dc2e0148aa8856714355e409b3, RMSE: 3.823003385549531\n",
      "Run ID: 2bf7721325cd43f9beae5545ac5f1a52, RMSE: 3.823003385549531\n",
      "Run ID: cefb62fa467c4418b2afde9ebc54997e, RMSE: 3.823003385549531\n",
      "Run ID: a9fc85795dc24b9bbb1a2338d5a87ada, RMSE: 3.823003385549531\n",
      "Run ID: 976ee471b83447f08fb84644ce4b8c61, RMSE: 3.823003385549531\n",
      "Run ID: 9071cc07294149e8befc381592a817af, RMSE: 3.823003385549531\n",
      "Run ID: bd15a0054834429c971646c4eee6c997, RMSE: 3.8244489800448744\n",
      "Run ID: b0986655af9b47828349c8c3d0b14f18, RMSE: 5.603029113294384\n",
      "Run ID: 4f7ccae80a4b440497c7987a74fe09e2, RMSE: 5.603029113294384\n",
      "Run ID: 67af706581064a84b11ba83b38bdee13, RMSE: 5.603029113294384\n"
     ]
    }
   ],
   "source": [
    "from mlflow.entities import ViewType\n",
    "runs = client.search_runs(\n",
    "    experiment_ids='1',\n",
    "    filter_string=\"metrics.rmse < 7\",\n",
    "    run_view_type=ViewType.ACTIVE_ONLY,\n",
    "    max_results=10,\n",
    "    order_by=[\"metrics.rmse ASC\"]\n",
    ")\n",
    "for run in runs:\n",
    "    print(f\"Run ID: {run.info.run_id}, RMSE: {run.data.metrics['rmse']}\")"
   ]
  }
 ],
 "metadata": {
  "kernelspec": {
   "display_name": "exp-tracking-env",
   "language": "python",
   "name": "python3"
  },
  "language_info": {
   "codemirror_mode": {
    "name": "ipython",
    "version": 3
   },
   "file_extension": ".py",
   "mimetype": "text/x-python",
   "name": "python",
   "nbconvert_exporter": "python",
   "pygments_lexer": "ipython3",
   "version": "3.9.12"
  }
 },
 "nbformat": 4,
 "nbformat_minor": 5
}
